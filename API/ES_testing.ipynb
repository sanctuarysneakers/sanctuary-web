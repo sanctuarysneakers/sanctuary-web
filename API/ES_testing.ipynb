{
 "cells": [
  {
   "cell_type": "code",
   "execution_count": 188,
   "metadata": {
    "collapsed": true
   },
   "outputs": [
    {
     "data": {
      "text/plain": [
       "{'name': '0f67a9c44436d20abf61d5119de143b6',\n",
       " 'cluster_name': '330169916055:sanctuary',\n",
       " 'cluster_uuid': 'J9O9an3vQrqYWJWWtDWQ6Q',\n",
       " 'version': {'number': '7.10.2',\n",
       "  'build_flavor': 'oss',\n",
       "  'build_type': 'tar',\n",
       "  'build_hash': 'unknown',\n",
       "  'build_date': '2021-04-21T04:22:10.395481Z',\n",
       "  'build_snapshot': False,\n",
       "  'lucene_version': '8.7.0',\n",
       "  'minimum_wire_compatibility_version': '6.8.0',\n",
       "  'minimum_index_compatibility_version': '6.0.0-beta1'},\n",
       " 'tagline': 'You Know, for Search'}"
      ]
     },
     "execution_count": 188,
     "metadata": {},
     "output_type": "execute_result"
    }
   ],
   "source": [
    "import requests\n",
    "import json\n",
    "from elasticsearch import Elasticsearch\n",
    "\n",
    "es = Elasticsearch(['https://search-sanctuary-wnpcewotzjgc7vv4ivvgzs4fyy.us-west-2.es.amazonaws.com'], \n",
    "                    http_auth=('master', '%3i6PK@Wu^LisMH'))\n",
    "es.info()"
   ]
  },
  {
   "cell_type": "code",
   "execution_count": 191,
   "metadata": {
    "collapsed": true
   },
   "outputs": [
    {
     "data": {
      "text/plain": [
       "{'took': 42,\n",
       " 'timed_out': False,\n",
       " '_shards': {'total': 1, 'successful': 1, 'skipped': 0, 'failed': 0},\n",
       " 'hits': {'total': {'value': 0, 'relation': 'eq'},\n",
       "  'max_score': None,\n",
       "  'hits': []}}"
      ]
     },
     "execution_count": 191,
     "metadata": {},
     "output_type": "execute_result"
    }
   ],
   "source": [
    "es.search(index=\"browse\", body={\n",
    "    \"query\": {\n",
    "        \"match\": {\n",
    "            \"model\": \"\"\n",
    "        }\n",
    "    },\n",
    "    \"sort\": [\"_score\", \"rank\"]\n",
    "})"
   ]
  },
  {
   "cell_type": "code",
   "execution_count": 189,
   "metadata": {
    "collapsed": true
   },
   "outputs": [
    {
     "data": {
      "text/plain": [
       "{'took': 105,\n",
       " 'timed_out': False,\n",
       " '_shards': {'total': 1, 'successful': 1, 'skipped': 0, 'failed': 0},\n",
       " 'hits': {'total': {'value': 999, 'relation': 'eq'},\n",
       "  'max_score': None,\n",
       "  'hits': [{'_index': 'browse',\n",
       "    '_type': '_doc',\n",
       "    '_id': '1aafa0b7-0821-4f5f-a42f-bfdaeb2d677d',\n",
       "    '_score': None,\n",
       "    '_source': {'rank': 100,\n",
       "     'model': 'Jordan 1 Retro High Shadow 2.0',\n",
       "     'sku': '555088-035',\n",
       "     'urlKey': 'air-jordan-1-retro-high-black-white-light-smoke-grey',\n",
       "     'image': 'https://images.stockx.com/images/Air-Jordan-1-Retro-High-Black-White-Light-Smoke-Grey-Product.jpg?fit=fill&bg=FFFFFF&w=700&h=500&auto=format,compress&trim=color&q=90&dpr=2&updated_at=1621454319',\n",
       "     'imageThumbnail': 'https://images.stockx.com/images/Air-Jordan-1-Retro-High-Black-White-Light-Smoke-Grey-Product.jpg?fit=fill&bg=FFFFFF&w=140&h=100&auto=format,compress&trim=color&q=90&dpr=2&updated_at=1621454319'},\n",
       "    'sort': [100]},\n",
       "   {'_index': 'browse',\n",
       "    '_type': '_doc',\n",
       "    '_id': '95d18fb5-f608-42fe-82b3-a2b8763a9fe4',\n",
       "    '_score': None,\n",
       "    '_source': {'rank': 101,\n",
       "     'model': 'Jordan 5 Retro Raging Bull Red (2021)',\n",
       "     'sku': 'DD0587-600',\n",
       "     'urlKey': 'air-jordan-5-retro-raging-bulls-red-2021',\n",
       "     'image': 'https://images.stockx.com/images/Air-Jordan-5-Retro-Raging-Bulls-Red-2021-Product.jpg?fit=fill&bg=FFFFFF&w=700&h=500&auto=format,compress&trim=color&q=90&dpr=2&updated_at=1616603755',\n",
       "     'imageThumbnail': 'https://images.stockx.com/images/Air-Jordan-5-Retro-Raging-Bulls-Red-2021-Product.jpg?fit=fill&bg=FFFFFF&w=140&h=100&auto=format,compress&trim=color&q=90&dpr=2&updated_at=1616603755'},\n",
       "    'sort': [101]},\n",
       "   {'_index': 'browse',\n",
       "    '_type': '_doc',\n",
       "    '_id': 'a391f827-2e9c-4fd5-ac67-8a4c835a9796',\n",
       "    '_score': None,\n",
       "    '_source': {'rank': 102,\n",
       "     'model': 'Jordan 13 Retro Gym Red Flint Grey',\n",
       "     'sku': 'DJ5982-600',\n",
       "     'urlKey': 'air-jordan-13-retro-gym-red-flint-grey',\n",
       "     'image': 'https://images.stockx.com/images/Air-Jordan-13-Retro-Gym-Red-Flint-Grey-Product.jpg?fit=fill&bg=FFFFFF&w=700&h=500&auto=format,compress&trim=color&q=90&dpr=2&updated_at=1619202000',\n",
       "     'imageThumbnail': 'https://images.stockx.com/images/Air-Jordan-13-Retro-Gym-Red-Flint-Grey-Product.jpg?fit=fill&bg=FFFFFF&w=140&h=100&auto=format,compress&trim=color&q=90&dpr=2&updated_at=1619202000'},\n",
       "    'sort': [102]},\n",
       "   {'_index': 'browse',\n",
       "    '_type': '_doc',\n",
       "    '_id': 'dd830775-6cb7-40f4-8ef3-4d944c897fce',\n",
       "    '_score': None,\n",
       "    '_source': {'rank': 103,\n",
       "     'model': 'Jordan 1 Retro High White University Blue Black',\n",
       "     'sku': '555088-134',\n",
       "     'urlKey': 'air-jordan-1-retro-high-white-university-blue-black',\n",
       "     'image': 'https://images.stockx.com/images/Air-Jordan-1-Retro-High-White-University-Blue-Black-Product.jpg?fit=fill&bg=FFFFFF&w=700&h=500&auto=format,compress&trim=color&q=90&dpr=2&updated_at=1611777406',\n",
       "     'imageThumbnail': 'https://images.stockx.com/images/Air-Jordan-1-Retro-High-White-University-Blue-Black-Product.jpg?fit=fill&bg=FFFFFF&w=140&h=100&auto=format,compress&trim=color&q=90&dpr=2&updated_at=1611777406'},\n",
       "    'sort': [103]},\n",
       "   {'_index': 'browse',\n",
       "    '_type': '_doc',\n",
       "    '_id': '28aff902-d9a8-4dfa-b6b8-12d2971eefcb',\n",
       "    '_score': None,\n",
       "    '_source': {'rank': 104,\n",
       "     'model': 'Jordan 1 Retro High OG Hyper Royal',\n",
       "     'sku': '555088-402',\n",
       "     'urlKey': 'air-jordan-1-retro-high-hyper-royal-smoke-grey',\n",
       "     'image': 'https://images.stockx.com/images/Air-Jordan-1-Retro-High-Hyper-Royal-Smoke-Grey-Product.jpg?fit=fill&bg=FFFFFF&w=700&h=500&auto=format,compress&trim=color&q=90&dpr=2&updated_at=1618238995',\n",
       "     'imageThumbnail': 'https://images.stockx.com/images/Air-Jordan-1-Retro-High-Hyper-Royal-Smoke-Grey-Product.jpg?fit=fill&bg=FFFFFF&w=140&h=100&auto=format,compress&trim=color&q=90&dpr=2&updated_at=1618238995'},\n",
       "    'sort': [104]},\n",
       "   {'_index': 'browse',\n",
       "    '_type': '_doc',\n",
       "    '_id': 'f3f899b0-6571-4f75-9207-f61190e17794',\n",
       "    '_score': None,\n",
       "    '_source': {'rank': 105,\n",
       "     'model': 'Jordan 4 Retro University Blue',\n",
       "     'sku': 'CT8527-400',\n",
       "     'urlKey': 'air-jordan-4-retro-university-blue',\n",
       "     'image': 'https://images.stockx.com/images/Air-Jordan-4-Retro-University-Blue-Product.jpg?fit=fill&bg=FFFFFF&w=700&h=500&auto=format,compress&trim=color&q=90&dpr=2&updated_at=1616520672',\n",
       "     'imageThumbnail': 'https://images.stockx.com/images/Air-Jordan-4-Retro-University-Blue-Product.jpg?fit=fill&bg=FFFFFF&w=140&h=100&auto=format,compress&trim=color&q=90&dpr=2&updated_at=1616520672'},\n",
       "    'sort': [105]},\n",
       "   {'_index': 'browse',\n",
       "    '_type': '_doc',\n",
       "    '_id': '185ecb6f-2402-467c-8db4-c846bf8cdb7a',\n",
       "    '_score': None,\n",
       "    '_source': {'rank': 106,\n",
       "     'model': 'adidas Yeezy Boost 350 V2 Black Red (2017/2020)',\n",
       "     'sku': 'CP9652',\n",
       "     'urlKey': 'adidas-yeezy-boost-350-v2-core-black-red-2017',\n",
       "     'image': 'https://images.stockx.com/images/Adidas-Yeezy-Boost-350-V2-Core-Black-Red-2017-Product.jpg?fit=fill&bg=FFFFFF&w=700&h=500&auto=format,compress&trim=color&q=90&dpr=2&updated_at=1606320792',\n",
       "     'imageThumbnail': 'https://images.stockx.com/images/Adidas-Yeezy-Boost-350-V2-Core-Black-Red-2017-Product.jpg?fit=fill&bg=FFFFFF&w=140&h=100&auto=format,compress&trim=color&q=90&dpr=2&updated_at=1606320792'},\n",
       "    'sort': [106]},\n",
       "   {'_index': 'browse',\n",
       "    '_type': '_doc',\n",
       "    '_id': 'f75fabbb-2bb9-4fbc-a0ee-ff7ce34be745',\n",
       "    '_score': None,\n",
       "    '_source': {'rank': 107,\n",
       "     'model': 'Jordan 6 Retro Travis Scott British Khaki',\n",
       "     'sku': 'DH0690-200',\n",
       "     'urlKey': 'air-jordan-6-retro-travis-scott-british-khaki',\n",
       "     'image': 'https://images.stockx.com/images/Air-Jordan-6-Retro-Travis-Scott-British-Khaki-Product.jpg?fit=fill&bg=FFFFFF&w=700&h=500&auto=format,compress&trim=color&q=90&dpr=2&updated_at=1620406101',\n",
       "     'imageThumbnail': 'https://images.stockx.com/images/Air-Jordan-6-Retro-Travis-Scott-British-Khaki-Product.jpg?fit=fill&bg=FFFFFF&w=140&h=100&auto=format,compress&trim=color&q=90&dpr=2&updated_at=1620406101'},\n",
       "    'sort': [107]},\n",
       "   {'_index': 'browse',\n",
       "    '_type': '_doc',\n",
       "    '_id': 'f9602d3e-2ebc-41c9-881d-af50d0a1897f',\n",
       "    '_score': None,\n",
       "    '_source': {'rank': 108,\n",
       "     'model': 'Jordan 1 Mid Banned (2020)',\n",
       "     'sku': '554724-074',\n",
       "     'urlKey': 'air-jordan-1-mid-banned-2020',\n",
       "     'image': 'https://images.stockx.com/images/Air-Jordan-1-Mid-Banned-2020-Product.jpg?fit=fill&bg=FFFFFF&w=700&h=500&auto=format,compress&trim=color&q=90&dpr=2&updated_at=1606326136',\n",
       "     'imageThumbnail': 'https://images.stockx.com/images/Air-Jordan-1-Mid-Banned-2020-Product.jpg?fit=fill&bg=FFFFFF&w=140&h=100&auto=format,compress&trim=color&q=90&dpr=2&updated_at=1606326136'},\n",
       "    'sort': [108]},\n",
       "   {'_index': 'browse',\n",
       "    '_type': '_doc',\n",
       "    '_id': '715fc618-f9a3-4bc2-90c2-bbfb9f24e9dd',\n",
       "    '_score': None,\n",
       "    '_source': {'rank': 109,\n",
       "     'model': 'adidas Yeezy Boost 350 V2 Carbon',\n",
       "     'sku': 'FZ5000',\n",
       "     'urlKey': 'adidas-yeezy-boost-350-v2-carbon',\n",
       "     'image': 'https://images.stockx.com/images/adidas-Yeezy-Boost-350-V2-Carbon-Product.jpg?fit=fill&bg=FFFFFF&w=700&h=500&auto=format,compress&trim=color&q=90&dpr=2&updated_at=1609432836',\n",
       "     'imageThumbnail': 'https://images.stockx.com/images/adidas-Yeezy-Boost-350-V2-Carbon-Product.jpg?fit=fill&bg=FFFFFF&w=140&h=100&auto=format,compress&trim=color&q=90&dpr=2&updated_at=1609432836'},\n",
       "    'sort': [109]}]}}"
      ]
     },
     "execution_count": 189,
     "metadata": {},
     "output_type": "execute_result"
    }
   ],
   "source": [
    "es.search(index=\"browse\", body={\n",
    "    \"query\": {\n",
    "        \"match_all\": {}\n",
    "    },\n",
    "    \"sort\": [\"rank\"]\n",
    "})"
   ]
  },
  {
   "cell_type": "code",
   "execution_count": 158,
   "metadata": {
    "collapsed": true
   },
   "outputs": [
    {
     "data": {
      "text/plain": [
       "{'error': {'root_cause': [{'type': 'index_not_found_exception',\n",
       "    'reason': 'no such index [browse]',\n",
       "    'resource.type': 'index_or_alias',\n",
       "    'resource.id': 'browse',\n",
       "    'index_uuid': '_na_',\n",
       "    'index': 'browse'}],\n",
       "  'type': 'index_not_found_exception',\n",
       "  'reason': 'no such index [browse]',\n",
       "  'resource.type': 'index_or_alias',\n",
       "  'resource.id': 'browse',\n",
       "  'index_uuid': '_na_',\n",
       "  'index': 'browse'},\n",
       " 'status': 404}"
      ]
     },
     "execution_count": 158,
     "metadata": {},
     "output_type": "execute_result"
    }
   ],
   "source": [
    "es.indices.delete(index='browse', ignore=[400, 404])"
   ]
  }
 ],
 "metadata": {
  "kernelspec": {
   "display_name": "Python 3",
   "language": "python",
   "name": "python3"
  },
  "language_info": {
   "codemirror_mode": {
    "name": "ipython",
    "version": 3
   },
   "file_extension": ".py",
   "mimetype": "text/x-python",
   "name": "python",
   "nbconvert_exporter": "python",
   "pygments_lexer": "ipython3",
   "version": "3.7.4"
  }
 },
 "nbformat": 4,
 "nbformat_minor": 2
}
